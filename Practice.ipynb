{
 "cells": [
  {
   "cell_type": "code",
   "execution_count": 1,
   "metadata": {},
   "outputs": [
    {
     "name": "stderr",
     "output_type": "stream",
     "text": [
      "C:\\Users\\LocNguyen\\anaconda3\\envs\\PythonData\\lib\\site-packages\\tensorflow\\python\\framework\\dtypes.py:516: FutureWarning: Passing (type, 1) or '1type' as a synonym of type is deprecated; in a future version of numpy, it will be understood as (type, (1,)) / '(1,)type'.\n",
      "  _np_qint8 = np.dtype([(\"qint8\", np.int8, 1)])\n",
      "C:\\Users\\LocNguyen\\anaconda3\\envs\\PythonData\\lib\\site-packages\\tensorflow\\python\\framework\\dtypes.py:517: FutureWarning: Passing (type, 1) or '1type' as a synonym of type is deprecated; in a future version of numpy, it will be understood as (type, (1,)) / '(1,)type'.\n",
      "  _np_quint8 = np.dtype([(\"quint8\", np.uint8, 1)])\n",
      "C:\\Users\\LocNguyen\\anaconda3\\envs\\PythonData\\lib\\site-packages\\tensorflow\\python\\framework\\dtypes.py:518: FutureWarning: Passing (type, 1) or '1type' as a synonym of type is deprecated; in a future version of numpy, it will be understood as (type, (1,)) / '(1,)type'.\n",
      "  _np_qint16 = np.dtype([(\"qint16\", np.int16, 1)])\n",
      "C:\\Users\\LocNguyen\\anaconda3\\envs\\PythonData\\lib\\site-packages\\tensorflow\\python\\framework\\dtypes.py:519: FutureWarning: Passing (type, 1) or '1type' as a synonym of type is deprecated; in a future version of numpy, it will be understood as (type, (1,)) / '(1,)type'.\n",
      "  _np_quint16 = np.dtype([(\"quint16\", np.uint16, 1)])\n",
      "C:\\Users\\LocNguyen\\anaconda3\\envs\\PythonData\\lib\\site-packages\\tensorflow\\python\\framework\\dtypes.py:520: FutureWarning: Passing (type, 1) or '1type' as a synonym of type is deprecated; in a future version of numpy, it will be understood as (type, (1,)) / '(1,)type'.\n",
      "  _np_qint32 = np.dtype([(\"qint32\", np.int32, 1)])\n",
      "C:\\Users\\LocNguyen\\anaconda3\\envs\\PythonData\\lib\\site-packages\\tensorflow\\python\\framework\\dtypes.py:525: FutureWarning: Passing (type, 1) or '1type' as a synonym of type is deprecated; in a future version of numpy, it will be understood as (type, (1,)) / '(1,)type'.\n",
      "  np_resource = np.dtype([(\"resource\", np.ubyte, 1)])\n",
      "C:\\Users\\LocNguyen\\anaconda3\\envs\\PythonData\\lib\\site-packages\\tensorboard\\compat\\tensorflow_stub\\dtypes.py:541: FutureWarning: Passing (type, 1) or '1type' as a synonym of type is deprecated; in a future version of numpy, it will be understood as (type, (1,)) / '(1,)type'.\n",
      "  _np_qint8 = np.dtype([(\"qint8\", np.int8, 1)])\n",
      "C:\\Users\\LocNguyen\\anaconda3\\envs\\PythonData\\lib\\site-packages\\tensorboard\\compat\\tensorflow_stub\\dtypes.py:542: FutureWarning: Passing (type, 1) or '1type' as a synonym of type is deprecated; in a future version of numpy, it will be understood as (type, (1,)) / '(1,)type'.\n",
      "  _np_quint8 = np.dtype([(\"quint8\", np.uint8, 1)])\n",
      "C:\\Users\\LocNguyen\\anaconda3\\envs\\PythonData\\lib\\site-packages\\tensorboard\\compat\\tensorflow_stub\\dtypes.py:543: FutureWarning: Passing (type, 1) or '1type' as a synonym of type is deprecated; in a future version of numpy, it will be understood as (type, (1,)) / '(1,)type'.\n",
      "  _np_qint16 = np.dtype([(\"qint16\", np.int16, 1)])\n",
      "C:\\Users\\LocNguyen\\anaconda3\\envs\\PythonData\\lib\\site-packages\\tensorboard\\compat\\tensorflow_stub\\dtypes.py:544: FutureWarning: Passing (type, 1) or '1type' as a synonym of type is deprecated; in a future version of numpy, it will be understood as (type, (1,)) / '(1,)type'.\n",
      "  _np_quint16 = np.dtype([(\"quint16\", np.uint16, 1)])\n",
      "C:\\Users\\LocNguyen\\anaconda3\\envs\\PythonData\\lib\\site-packages\\tensorboard\\compat\\tensorflow_stub\\dtypes.py:545: FutureWarning: Passing (type, 1) or '1type' as a synonym of type is deprecated; in a future version of numpy, it will be understood as (type, (1,)) / '(1,)type'.\n",
      "  _np_qint32 = np.dtype([(\"qint32\", np.int32, 1)])\n",
      "C:\\Users\\LocNguyen\\anaconda3\\envs\\PythonData\\lib\\site-packages\\tensorboard\\compat\\tensorflow_stub\\dtypes.py:550: FutureWarning: Passing (type, 1) or '1type' as a synonym of type is deprecated; in a future version of numpy, it will be understood as (type, (1,)) / '(1,)type'.\n",
      "  np_resource = np.dtype([(\"resource\", np.ubyte, 1)])\n"
     ]
    }
   ],
   "source": [
    "# Import our dependencies\n",
    "import pandas as pd\n",
    "import matplotlib as plt\n",
    "from sklearn.datasets import make_blobs\n",
    "import sklearn as skl\n",
    "import tensorflow as tf"
   ]
  },
  {
   "cell_type": "code",
   "execution_count": 2,
   "metadata": {},
   "outputs": [
    {
     "data": {
      "text/plain": [
       "<matplotlib.axes._subplots.AxesSubplot at 0x1ce27c69c88>"
      ]
     },
     "execution_count": 2,
     "metadata": {},
     "output_type": "execute_result"
    },
    {
     "data": {
      "image/png": "[encoded data removed]",
      "text/plain": [
       "<Figure size 432x288 with 2 Axes>"
      ]
     },
     "metadata": {
      "needs_background": "light"
     },
     "output_type": "display_data"
    }
   ],
   "source": [
    "# Generate dummy dataset\n",
    "# Data is linearly separable: output is either 0 or 1\n",
    "X, y = make_blobs(n_samples=1000, centers=2, n_features=2, random_state=78)\n",
    "\n",
    "# Creating a DataFrame with the dummy data\n",
    "df = pd.DataFrame(X, columns=[\"Feature 1\", \"Feature 2\"])\n",
    "df[\"Target\"] = y\n",
    "\n",
    "# Plotting the dummy data\n",
    "df.plot.scatter(x=\"Feature 1\", y=\"Feature 2\", c=\"Target\", colormap=\"winter\")"
   ]
  },
  {
   "cell_type": "markdown",
   "metadata": {},
   "source": [
    "#  Build a basic neural network model"
   ]
  },
  {
   "cell_type": "code",
   "execution_count": 3,
   "metadata": {},
   "outputs": [],
   "source": [
    "# Use sklearn to split dataset\n",
    "from sklearn.model_selection import train_test_split\n",
    "X_train, X_test, y_train, y_test = train_test_split(X, y, random_state=78)"
   ]
  },
  {
   "cell_type": "code",
   "execution_count": 4,
   "metadata": {},
   "outputs": [],
   "source": [
    "# Normalize or standardize our numerical variables\n",
    "# Create scaler instance\n",
    "X_scaler = skl.preprocessing.StandardScaler()\n",
    "\n",
    "# Fit the scaler\n",
    "X_scaler.fit(X_train)\n",
    "\n",
    "# Scale the data\n",
    "X_train_scaled = X_scaler.transform(X_train)\n",
    "X_test_scaled = X_scaler.transform(X_test)"
   ]
  },
  {
   "cell_type": "code",
   "execution_count": 5,
   "metadata": {},
   "outputs": [],
   "source": [
    "# Create the Keras Sequential model\n",
    "nn_model = tf.keras.models.Sequential()"
   ]
  },
  {
   "cell_type": "code",
   "execution_count": 6,
   "metadata": {},
   "outputs": [
    {
     "name": "stdout",
     "output_type": "stream",
     "text": [
      "WARNING:tensorflow:From C:\\Users\\LocNguyen\\anaconda3\\envs\\PythonData\\lib\\site-packages\\tensorflow\\python\\ops\\init_ops.py:1251: calling VarianceScaling.__init__ (from tensorflow.python.ops.init_ops) with dtype is deprecated and will be removed in a future version.\n",
      "Instructions for updating:\n",
      "Call initializer instance with the dtype argument instead of passing it to the constructor\n"
     ]
    }
   ],
   "source": [
    "# Add our first Dense layer (or hidden layer), including the input layer\n",
    "# The input and first hidden layer are always built in the same instance\n",
    "    # unit = # of neurons\n",
    "    # input_dim: # of inputs, here we have 2 features\n",
    "nn_model.add(tf.keras.layers.Dense(units=1, activation=\"relu\", input_dim=2))"
   ]
  },
  {
   "cell_type": "code",
   "execution_count": 7,
   "metadata": {},
   "outputs": [],
   "source": [
    "# Add the output layer that uses a probability activation function\n",
    "nn_model.add(tf.keras.layers.Dense(units=1, activation=\"sigmoid\"))"
   ]
  },
  {
   "cell_type": "code",
   "execution_count": 8,
   "metadata": {},
   "outputs": [
    {
     "name": "stdout",
     "output_type": "stream",
     "text": [
      "Model: \"sequential\"\n",
      "_________________________________________________________________\n",
      "Layer (type)                 Output Shape              Param #   \n",
      "=================================================================\n",
      "dense (Dense)                (None, 1)                 3         \n",
      "_________________________________________________________________\n",
      "dense_1 (Dense)              (None, 1)                 2         \n",
      "=================================================================\n",
      "Total params: 5\n",
      "Trainable params: 5\n",
      "Non-trainable params: 0\n",
      "_________________________________________________________________\n"
     ]
    }
   ],
   "source": [
    "# Check the structure of the Sequential model\n",
    "nn_model.summary()"
   ]
  },
  {
   "cell_type": "code",
   "execution_count": 9,
   "metadata": {},
   "outputs": [
    {
     "name": "stdout",
     "output_type": "stream",
     "text": [
      "WARNING:tensorflow:From C:\\Users\\LocNguyen\\anaconda3\\envs\\PythonData\\lib\\site-packages\\tensorflow\\python\\ops\\nn_impl.py:180: add_dispatch_support.<locals>.wrapper (from tensorflow.python.ops.array_ops) is deprecated and will be removed in a future version.\n",
      "Instructions for updating:\n",
      "Use tf.where in 2.0, which has the same broadcast rule as np.where\n"
     ]
    }
   ],
   "source": [
    "# Compile the Sequential model together and customize metrics\n",
    "nn_model.compile(loss=\"binary_crossentropy\", optimizer=\"adam\", metrics=[\"accuracy\"])"
   ]
  },
  {
   "cell_type": "markdown",
   "metadata": {},
   "source": [
    "### Train and fit the above model to the data"
   ]
  },
  {
   "cell_type": "code",
   "execution_count": 10,
   "metadata": {},
   "outputs": [
    {
     "name": "stdout",
     "output_type": "stream",
     "text": [
      "Epoch 1/100\n",
      "750/750 [==============================] - 0s 153us/sample - loss: 0.7055 - acc: 0.1853\n",
      "Epoch 2/100\n",
      "750/750 [==============================] - 0s 27us/sample - loss: 0.7016 - acc: 0.1747\n",
      "Epoch 3/100\n",
      "750/750 [==============================] - 0s 28us/sample - loss: 0.6990 - acc: 0.2280\n",
      "Epoch 4/100\n",
      "750/750 [==============================] - 0s 28us/sample - loss: 0.6969 - acc: 0.2773\n",
      "Epoch 5/100\n",
      "750/750 [==============================] - 0s 28us/sample - loss: 0.6956 - acc: 0.3400\n",
      "Epoch 6/100\n",
      "750/750 [==============================] - 0s 32us/sample - loss: 0.6947 - acc: 0.3933\n",
      "Epoch 7/100\n",
      "750/750 [==============================] - 0s 25us/sample - loss: 0.6940 - acc: 0.4467\n",
      "Epoch 8/100\n",
      "750/750 [==============================] - 0s 29us/sample - loss: 0.6936 - acc: 0.4773\n",
      "Epoch 9/100\n",
      "750/750 [==============================] - 0s 28us/sample - loss: 0.6934 - acc: 0.5000\n",
      "Epoch 10/100\n",
      "750/750 [==============================] - 0s 29us/sample - loss: 0.6932 - acc: 0.5093\n",
      "Epoch 11/100\n",
      "750/750 [==============================] - 0s 32us/sample - loss: 0.6930 - acc: 0.5107\n",
      "Epoch 12/100\n",
      "750/750 [==============================] - 0s 32us/sample - loss: 0.6929 - acc: 0.5133\n",
      "Epoch 13/100\n",
      "750/750 [==============================] - 0s 29us/sample - loss: 0.6928 - acc: 0.5160\n",
      "Epoch 14/100\n",
      "750/750 [==============================] - 0s 31us/sample - loss: 0.6926 - acc: 0.5173\n",
      "Epoch 15/100\n",
      "750/750 [==============================] - 0s 29us/sample - loss: 0.6925 - acc: 0.5173\n",
      "Epoch 16/100\n",
      "750/750 [==============================] - 0s 28us/sample - loss: 0.6922 - acc: 0.5293\n",
      "Epoch 17/100\n",
      "750/750 [==============================] - 0s 27us/sample - loss: 0.6917 - acc: 0.5400\n",
      "Epoch 18/100\n",
      "750/750 [==============================] - 0s 25us/sample - loss: 0.6908 - acc: 0.5760\n",
      "Epoch 19/100\n",
      "750/750 [==============================] - 0s 29us/sample - loss: 0.6889 - acc: 0.7107\n",
      "Epoch 20/100\n",
      "750/750 [==============================] - 0s 31us/sample - loss: 0.6840 - acc: 0.8667\n",
      "Epoch 21/100\n",
      "750/750 [==============================] - 0s 29us/sample - loss: 0.6746 - acc: 0.9960\n",
      "Epoch 22/100\n",
      "750/750 [==============================] - 0s 28us/sample - loss: 0.6600 - acc: 1.0000\n",
      "Epoch 23/100\n",
      "750/750 [==============================] - 0s 28us/sample - loss: 0.6406 - acc: 1.0000\n",
      "Epoch 24/100\n",
      "750/750 [==============================] - 0s 29us/sample - loss: 0.6179 - acc: 1.0000\n",
      "Epoch 25/100\n",
      "750/750 [==============================] - 0s 25us/sample - loss: 0.5932 - acc: 1.0000\n",
      "Epoch 26/100\n",
      "750/750 [==============================] - 0s 29us/sample - loss: 0.5679 - acc: 0.9987\n",
      "Epoch 27/100\n",
      "750/750 [==============================] - 0s 31us/sample - loss: 0.5424 - acc: 0.9987\n",
      "Epoch 28/100\n",
      "750/750 [==============================] - 0s 32us/sample - loss: 0.5181 - acc: 0.9987\n",
      "Epoch 29/100\n",
      "750/750 [==============================] - 0s 32us/sample - loss: 0.4948 - acc: 0.9987\n",
      "Epoch 30/100\n",
      "750/750 [==============================] - 0s 29us/sample - loss: 0.4730 - acc: 0.9987\n",
      "Epoch 31/100\n",
      "750/750 [==============================] - 0s 31us/sample - loss: 0.4522 - acc: 0.9987\n",
      "Epoch 32/100\n",
      "750/750 [==============================] - 0s 29us/sample - loss: 0.4331 - acc: 0.9987\n",
      "Epoch 33/100\n",
      "750/750 [==============================] - 0s 28us/sample - loss: 0.4153 - acc: 0.9987\n",
      "Epoch 34/100\n",
      "750/750 [==============================] - 0s 27us/sample - loss: 0.3987 - acc: 0.9987\n",
      "Epoch 35/100\n",
      "750/750 [==============================] - 0s 29us/sample - loss: 0.3833 - acc: 0.9987\n",
      "Epoch 36/100\n",
      "750/750 [==============================] - 0s 29us/sample - loss: 0.3689 - acc: 0.9987\n",
      "Epoch 37/100\n",
      "750/750 [==============================] - 0s 31us/sample - loss: 0.3555 - acc: 0.9987\n",
      "Epoch 38/100\n",
      "750/750 [==============================] - 0s 28us/sample - loss: 0.3430 - acc: 0.9987\n",
      "Epoch 39/100\n",
      "750/750 [==============================] - 0s 28us/sample - loss: 0.3312 - acc: 0.9987\n",
      "Epoch 40/100\n",
      "750/750 [==============================] - 0s 28us/sample - loss: 0.3202 - acc: 0.9987\n",
      "Epoch 41/100\n",
      "750/750 [==============================] - 0s 28us/sample - loss: 0.3099 - acc: 0.9987\n",
      "Epoch 42/100\n",
      "750/750 [==============================] - 0s 29us/sample - loss: 0.3001 - acc: 0.9987\n",
      "Epoch 43/100\n",
      "750/750 [==============================] - 0s 28us/sample - loss: 0.2909 - acc: 0.9987\n",
      "Epoch 44/100\n",
      "750/750 [==============================] - 0s 27us/sample - loss: 0.2822 - acc: 0.9987\n",
      "Epoch 45/100\n",
      "750/750 [==============================] - 0s 28us/sample - loss: 0.2740 - acc: 0.9987\n",
      "Epoch 46/100\n",
      "750/750 [==============================] - 0s 29us/sample - loss: 0.2662 - acc: 0.9987\n",
      "Epoch 47/100\n",
      "750/750 [==============================] - 0s 28us/sample - loss: 0.2588 - acc: 0.9987\n",
      "Epoch 48/100\n",
      "750/750 [==============================] - 0s 31us/sample - loss: 0.2517 - acc: 0.9987\n",
      "Epoch 49/100\n",
      "750/750 [==============================] - 0s 27us/sample - loss: 0.2450 - acc: 0.9987\n",
      "Epoch 50/100\n",
      "750/750 [==============================] - ETA: 0s - loss: 0.2719 - acc: 1.000 - 0s 27us/sample - loss: 0.2386 - acc: 0.9987\n",
      "Epoch 51/100\n",
      "750/750 [==============================] - 0s 29us/sample - loss: 0.2325 - acc: 0.9987\n",
      "Epoch 52/100\n",
      "750/750 [==============================] - 0s 28us/sample - loss: 0.2266 - acc: 0.9987\n",
      "Epoch 53/100\n",
      "750/750 [==============================] - 0s 28us/sample - loss: 0.2210 - acc: 0.9987\n",
      "Epoch 54/100\n",
      "750/750 [==============================] - 0s 28us/sample - loss: 0.2156 - acc: 0.9987\n",
      "Epoch 55/100\n",
      "750/750 [==============================] - 0s 27us/sample - loss: 0.2104 - acc: 0.9987\n",
      "Epoch 56/100\n",
      "750/750 [==============================] - 0s 24us/sample - loss: 0.2055 - acc: 0.9987\n",
      "Epoch 57/100\n",
      "750/750 [==============================] - 0s 28us/sample - loss: 0.2007 - acc: 0.9987\n",
      "Epoch 58/100\n",
      "750/750 [==============================] - 0s 28us/sample - loss: 0.1961 - acc: 0.9987\n",
      "Epoch 59/100\n",
      "750/750 [==============================] - 0s 25us/sample - loss: 0.1917 - acc: 0.9987\n",
      "Epoch 60/100\n",
      "750/750 [==============================] - 0s 28us/sample - loss: 0.1874 - acc: 1.0000\n",
      "Epoch 61/100\n",
      "750/750 [==============================] - 0s 25us/sample - loss: 0.1833 - acc: 1.0000\n",
      "Epoch 62/100\n",
      "750/750 [==============================] - 0s 27us/sample - loss: 0.1793 - acc: 1.0000\n",
      "Epoch 63/100\n",
      "750/750 [==============================] - 0s 27us/sample - loss: 0.1754 - acc: 1.0000\n",
      "Epoch 64/100\n",
      "750/750 [==============================] - 0s 27us/sample - loss: 0.1717 - acc: 1.0000\n",
      "Epoch 65/100\n",
      "750/750 [==============================] - 0s 24us/sample - loss: 0.1681 - acc: 1.0000\n",
      "Epoch 66/100\n",
      "750/750 [==============================] - 0s 25us/sample - loss: 0.1646 - acc: 1.0000\n",
      "Epoch 67/100\n",
      "750/750 [==============================] - 0s 25us/sample - loss: 0.1612 - acc: 1.0000\n",
      "Epoch 68/100\n",
      "750/750 [==============================] - 0s 27us/sample - loss: 0.1579 - acc: 1.0000\n",
      "Epoch 69/100\n",
      "750/750 [==============================] - 0s 28us/sample - loss: 0.1548 - acc: 1.0000\n",
      "Epoch 70/100\n",
      "750/750 [==============================] - ETA: 0s - loss: 0.1624 - acc: 1.000 - 0s 27us/sample - loss: 0.1517 - acc: 1.0000\n",
      "Epoch 71/100\n",
      "750/750 [==============================] - 0s 27us/sample - loss: 0.1487 - acc: 1.0000\n",
      "Epoch 72/100\n",
      "750/750 [==============================] - 0s 28us/sample - loss: 0.1459 - acc: 1.0000\n",
      "Epoch 73/100\n",
      "750/750 [==============================] - 0s 27us/sample - loss: 0.1431 - acc: 1.0000\n",
      "Epoch 74/100\n",
      "750/750 [==============================] - 0s 25us/sample - loss: 0.1403 - acc: 1.0000\n",
      "Epoch 75/100\n",
      "750/750 [==============================] - 0s 27us/sample - loss: 0.1376 - acc: 1.0000\n",
      "Epoch 76/100\n",
      "750/750 [==============================] - 0s 27us/sample - loss: 0.1351 - acc: 1.0000\n",
      "Epoch 77/100\n",
      "750/750 [==============================] - 0s 25us/sample - loss: 0.1326 - acc: 1.0000\n",
      "Epoch 78/100\n",
      "750/750 [==============================] - 0s 28us/sample - loss: 0.1301 - acc: 1.0000\n",
      "Epoch 79/100\n",
      "750/750 [==============================] - 0s 28us/sample - loss: 0.1277 - acc: 1.0000\n",
      "Epoch 80/100\n",
      "750/750 [==============================] - 0s 25us/sample - loss: 0.1254 - acc: 1.0000\n",
      "Epoch 81/100\n",
      "750/750 [==============================] - 0s 25us/sample - loss: 0.1232 - acc: 1.0000\n",
      "Epoch 82/100\n"
     ]
    },
    {
     "name": "stdout",
     "output_type": "stream",
     "text": [
      "750/750 [==============================] - 0s 28us/sample - loss: 0.1210 - acc: 1.0000\n",
      "Epoch 83/100\n",
      "750/750 [==============================] - 0s 28us/sample - loss: 0.1189 - acc: 1.0000\n",
      "Epoch 84/100\n",
      "750/750 [==============================] - 0s 28us/sample - loss: 0.1168 - acc: 1.0000\n",
      "Epoch 85/100\n",
      "750/750 [==============================] - 0s 25us/sample - loss: 0.1147 - acc: 1.0000\n",
      "Epoch 86/100\n",
      "750/750 [==============================] - 0s 24us/sample - loss: 0.1128 - acc: 1.0000\n",
      "Epoch 87/100\n",
      "750/750 [==============================] - 0s 24us/sample - loss: 0.1108 - acc: 1.0000\n",
      "Epoch 88/100\n",
      "750/750 [==============================] - ETA: 0s - loss: 0.1193 - acc: 1.000 - 0s 25us/sample - loss: 0.1089 - acc: 1.0000\n",
      "Epoch 89/100\n",
      "750/750 [==============================] - 0s 27us/sample - loss: 0.1071 - acc: 1.0000\n",
      "Epoch 90/100\n",
      "750/750 [==============================] - 0s 25us/sample - loss: 0.1053 - acc: 1.0000\n",
      "Epoch 91/100\n",
      "750/750 [==============================] - 0s 24us/sample - loss: 0.1036 - acc: 1.0000\n",
      "Epoch 92/100\n",
      "750/750 [==============================] - 0s 27us/sample - loss: 0.1019 - acc: 1.0000\n",
      "Epoch 93/100\n",
      "750/750 [==============================] - 0s 25us/sample - loss: 0.1002 - acc: 1.0000\n",
      "Epoch 94/100\n",
      "750/750 [==============================] - ETA: 0s - loss: 0.0914 - acc: 1.000 - 0s 27us/sample - loss: 0.0985 - acc: 1.0000\n",
      "Epoch 95/100\n",
      "750/750 [==============================] - 0s 25us/sample - loss: 0.0970 - acc: 1.0000\n",
      "Epoch 96/100\n",
      "750/750 [==============================] - 0s 24us/sample - loss: 0.0954 - acc: 1.0000\n",
      "Epoch 97/100\n",
      "750/750 [==============================] - 0s 33us/sample - loss: 0.0939 - acc: 1.0000\n",
      "Epoch 98/100\n",
      "750/750 [==============================] - 0s 28us/sample - loss: 0.0924 - acc: 1.0000\n",
      "Epoch 99/100\n",
      "750/750 [==============================] - 0s 28us/sample - loss: 0.0909 - acc: 1.0000\n",
      "Epoch 100/100\n",
      "750/750 [==============================] - 0s 25us/sample - loss: 0.0895 - acc: 1.0000\n"
     ]
    }
   ],
   "source": [
    "# Fit the model to the training data (you pick the epoch yourself)\n",
    "fit_model = nn_model.fit(X_train_scaled, y_train, epochs=100)"
   ]
  },
  {
   "cell_type": "code",
   "execution_count": 12,
   "metadata": {},
   "outputs": [
    {
     "data": {
      "text/plain": [
       "<matplotlib.axes._subplots.AxesSubplot at 0x1ce29b583c8>"
      ]
     },
     "execution_count": 12,
     "metadata": {},
     "output_type": "execute_result"
    },
    {
     "data": {
      "image/png": "[encoded data removed]",
      "text/plain": [
       "<Figure size 432x288 with 1 Axes>"
      ]
     },
     "metadata": {
      "needs_background": "light"
     },
     "output_type": "display_data"
    }
   ],
   "source": [
    "# Create a DataFrame containing training history\n",
    "history_df = pd.DataFrame(fit_model.history, index=range(1,len(fit_model.history[\"loss\"])+1))\n",
    "\n",
    "# Plot the loss\n",
    "history_df.plot(y=\"loss\")"
   ]
  },
  {
   "cell_type": "code",
   "execution_count": 13,
   "metadata": {},
   "outputs": [
    {
     "data": {
      "text/plain": [
       "<matplotlib.axes._subplots.AxesSubplot at 0x1ce29cdd248>"
      ]
     },
     "execution_count": 13,
     "metadata": {},
     "output_type": "execute_result"
    },
    {
     "data": {
      "image/png": "[encoded data removed]",
      "text/plain": [
       "<Figure size 432x288 with 1 Axes>"
      ]
     },
     "metadata": {
      "needs_background": "light"
     },
     "output_type": "display_data"
    }
   ],
   "source": [
    "# Plot the accuracy\n",
    "history_df.plot(y=\"acc\")"
   ]
  },
  {
   "cell_type": "code",
   "execution_count": 14,
   "metadata": {},
   "outputs": [
    {
     "name": "stdout",
     "output_type": "stream",
     "text": [
      "250/250 - 0s - loss: 0.0837 - acc: 1.0000\n",
      "Loss: 0.08373293781280518, Accuracy: 1.0\n"
     ]
    }
   ],
   "source": [
    "# Evaluate the model using the test data, using evaluate()\n",
    "model_loss, model_accuracy = nn_model.evaluate(X_test_scaled,y_test,verbose=2)\n",
    "print(f\"Loss: {model_loss}, Accuracy: {model_accuracy}\")"
   ]
  },
  {
   "cell_type": "markdown",
   "metadata": {},
   "source": [
    "   ### Try the model with a completely different random dataset"
   ]
  },
  {
   "cell_type": "code",
   "execution_count": 15,
   "metadata": {},
   "outputs": [
    {
     "data": {
      "text/plain": [
       "array([[0],\n",
       "       [1],\n",
       "       [0],\n",
       "       [1],\n",
       "       [0],\n",
       "       [0],\n",
       "       [1],\n",
       "       [1],\n",
       "       [1],\n",
       "       [0]])"
      ]
     },
     "execution_count": 15,
     "metadata": {},
     "output_type": "execute_result"
    }
   ],
   "source": [
    "# Predict the classification of a new set of blob data\n",
    "new_X, new_Y = make_blobs(n_samples=10, centers=2, n_features=2, random_state=78)\n",
    "new_X_scaled = X_scaler.transform(new_X)\n",
    "nn_model.predict_classes(new_X_scaled)"
   ]
  },
  {
   "cell_type": "markdown",
   "metadata": {},
   "source": [
    "## Summary: the order of creating a Keras Sequential model\n",
    "1. define a model name: nn_model = tf.keras.models.Sequential()\n",
    "2. add Dense layers: nn_model.add(tf.keras.layers.Dense(.....))\n",
    "3. compile the model altogether: nn_model.compile()\n",
    "4. train, fit, predict model like regular models"
   ]
  },
  {
   "cell_type": "markdown",
   "metadata": {},
   "source": [
    "# Try using the same model (1 layer, 1 neuron) on a nonlinear moon-shaped data:"
   ]
  },
  {
   "cell_type": "code",
   "execution_count": 16,
   "metadata": {},
   "outputs": [
    {
     "data": {
      "text/plain": [
       "<matplotlib.axes._subplots.AxesSubplot at 0x1ce29d5e108>"
      ]
     },
     "execution_count": 16,
     "metadata": {},
     "output_type": "execute_result"
    },
    {
     "data": {
      "image/png": "[encoded data removed]",
      "text/plain": [
       "<Figure size 432x288 with 2 Axes>"
      ]
     },
     "metadata": {
      "needs_background": "light"
     },
     "output_type": "display_data"
    }
   ],
   "source": [
    "from sklearn.datasets import make_moons\n",
    "\n",
    "# Creating dummy nonlinear data\n",
    "X_moons, y_moons = make_moons(n_samples=1000, noise=0.08, random_state=78)\n",
    "\n",
    "# Transforming y_moons to a vertical vector/array\n",
    "y_moons = y_moons.reshape(-1, 1)\n",
    "\n",
    "# Creating a DataFrame to plot the nonlinear dummy data\n",
    "df_moons = pd.DataFrame(X_moons, columns=[\"Feature 1\", \"Feature 2\"])\n",
    "df_moons[\"Target\"] = y_moons\n",
    "\n",
    "# Plot the nonlinear dummy data\n",
    "df_moons.plot.scatter(x=\"Feature 1\",y=\"Feature 2\", c=\"Target\",colormap=\"winter\")"
   ]
  },
  {
   "cell_type": "code",
   "execution_count": 17,
   "metadata": {},
   "outputs": [],
   "source": [
    "# Create training and testing sets\n",
    "X_moon_train, X_moon_test, y_moon_train, y_moon_test = train_test_split(\n",
    "    X_moons, y_moons, random_state=78\n",
    ")\n",
    "\n",
    "# Create the scaler instance\n",
    "X_moon_scaler = skl.preprocessing.StandardScaler()\n",
    "\n",
    "# Fit the scaler\n",
    "X_moon_scaler.fit(X_moon_train)\n",
    "\n",
    "# Scale the data\n",
    "X_moon_train_scaled = X_moon_scaler.transform(X_moon_train)\n",
    "X_moon_test_scaled = X_moon_scaler.transform(X_moon_test)"
   ]
  },
  {
   "cell_type": "code",
   "execution_count": 18,
   "metadata": {},
   "outputs": [
    {
     "name": "stdout",
     "output_type": "stream",
     "text": [
      "Epoch 1/100\n",
      "750/750 [==============================] - 0s 33us/sample - loss: 0.9833 - acc: 0.4853\n",
      "Epoch 2/100\n",
      "750/750 [==============================] - 0s 27us/sample - loss: 0.8610 - acc: 0.5133\n",
      "Epoch 3/100\n",
      "750/750 [==============================] - 0s 29us/sample - loss: 0.7815 - acc: 0.5373\n",
      "Epoch 4/100\n",
      "750/750 [==============================] - 0s 27us/sample - loss: 0.7275 - acc: 0.5493\n",
      "Epoch 5/100\n",
      "750/750 [==============================] - 0s 31us/sample - loss: 0.6886 - acc: 0.5720\n",
      "Epoch 6/100\n",
      "750/750 [==============================] - 0s 28us/sample - loss: 0.6575 - acc: 0.5840\n",
      "Epoch 7/100\n",
      "750/750 [==============================] - 0s 29us/sample - loss: 0.6328 - acc: 0.6040\n",
      "Epoch 8/100\n",
      "750/750 [==============================] - 0s 32us/sample - loss: 0.6112 - acc: 0.6147\n",
      "Epoch 9/100\n",
      "750/750 [==============================] - 0s 28us/sample - loss: 0.5931 - acc: 0.6173\n",
      "Epoch 10/100\n",
      "750/750 [==============================] - 0s 29us/sample - loss: 0.5770 - acc: 0.6293\n",
      "Epoch 11/100\n",
      "750/750 [==============================] - 0s 32us/sample - loss: 0.5624 - acc: 0.6400\n",
      "Epoch 12/100\n",
      "750/750 [==============================] - 0s 33us/sample - loss: 0.5492 - acc: 0.6533\n",
      "Epoch 13/100\n",
      "750/750 [==============================] - 0s 30us/sample - loss: 0.5372 - acc: 0.6640\n",
      "Epoch 14/100\n",
      "750/750 [==============================] - 0s 28us/sample - loss: 0.5265 - acc: 0.6747\n",
      "Epoch 15/100\n",
      "750/750 [==============================] - 0s 32us/sample - loss: 0.5160 - acc: 0.6813\n",
      "Epoch 16/100\n",
      "750/750 [==============================] - 0s 32us/sample - loss: 0.5063 - acc: 0.6867\n",
      "Epoch 17/100\n",
      "750/750 [==============================] - 0s 31us/sample - loss: 0.4972 - acc: 0.6920\n",
      "Epoch 18/100\n",
      "750/750 [==============================] - 0s 28us/sample - loss: 0.4886 - acc: 0.6920\n",
      "Epoch 19/100\n",
      "750/750 [==============================] - 0s 32us/sample - loss: 0.4803 - acc: 0.7027\n",
      "Epoch 20/100\n",
      "750/750 [==============================] - 0s 32us/sample - loss: 0.4725 - acc: 0.7133\n",
      "Epoch 21/100\n",
      "750/750 [==============================] - ETA: 0s - loss: 0.3593 - acc: 0.812 - 0s 28us/sample - loss: 0.4651 - acc: 0.7200\n",
      "Epoch 22/100\n",
      "750/750 [==============================] - 0s 32us/sample - loss: 0.4577 - acc: 0.7227\n",
      "Epoch 23/100\n",
      "750/750 [==============================] - 0s 29us/sample - loss: 0.4508 - acc: 0.7267\n",
      "Epoch 24/100\n",
      "750/750 [==============================] - 0s 31us/sample - loss: 0.4441 - acc: 0.7333\n",
      "Epoch 25/100\n",
      "750/750 [==============================] - 0s 25us/sample - loss: 0.4376 - acc: 0.7440\n",
      "Epoch 26/100\n",
      "750/750 [==============================] - 0s 29us/sample - loss: 0.4312 - acc: 0.7533\n",
      "Epoch 27/100\n",
      "750/750 [==============================] - 0s 27us/sample - loss: 0.4252 - acc: 0.7613\n",
      "Epoch 28/100\n",
      "750/750 [==============================] - 0s 32us/sample - loss: 0.4191 - acc: 0.7680\n",
      "Epoch 29/100\n",
      "750/750 [==============================] - 0s 28us/sample - loss: 0.4136 - acc: 0.7733\n",
      "Epoch 30/100\n",
      "750/750 [==============================] - 0s 27us/sample - loss: 0.4077 - acc: 0.7787\n",
      "Epoch 31/100\n",
      "750/750 [==============================] - 0s 29us/sample - loss: 0.4021 - acc: 0.7813\n",
      "Epoch 32/100\n",
      "750/750 [==============================] - 0s 32us/sample - loss: 0.3968 - acc: 0.7840\n",
      "Epoch 33/100\n",
      "750/750 [==============================] - ETA: 0s - loss: 0.5050 - acc: 0.656 - 0s 31us/sample - loss: 0.3915 - acc: 0.7867\n",
      "Epoch 34/100\n",
      "750/750 [==============================] - 0s 27us/sample - loss: 0.3863 - acc: 0.7907\n",
      "Epoch 35/100\n",
      "750/750 [==============================] - 0s 32us/sample - loss: 0.3814 - acc: 0.7920\n",
      "Epoch 36/100\n",
      "750/750 [==============================] - 0s 31us/sample - loss: 0.3767 - acc: 0.7933\n",
      "Epoch 37/100\n",
      "750/750 [==============================] - 0s 31us/sample - loss: 0.3721 - acc: 0.7987\n",
      "Epoch 38/100\n",
      "750/750 [==============================] - 0s 31us/sample - loss: 0.3676 - acc: 0.8013\n",
      "Epoch 39/100\n",
      "750/750 [==============================] - 0s 34us/sample - loss: 0.3632 - acc: 0.8080\n",
      "Epoch 40/100\n",
      "750/750 [==============================] - 0s 25us/sample - loss: 0.3592 - acc: 0.8107\n",
      "Epoch 41/100\n",
      "750/750 [==============================] - 0s 31us/sample - loss: 0.3552 - acc: 0.8147\n",
      "Epoch 42/100\n",
      "750/750 [==============================] - 0s 32us/sample - loss: 0.3515 - acc: 0.8187\n",
      "Epoch 43/100\n",
      "750/750 [==============================] - 0s 29us/sample - loss: 0.3479 - acc: 0.8200\n",
      "Epoch 44/100\n",
      "750/750 [==============================] - 0s 29us/sample - loss: 0.3445 - acc: 0.8293\n",
      "Epoch 45/100\n",
      "750/750 [==============================] - 0s 29us/sample - loss: 0.3412 - acc: 0.8333\n",
      "Epoch 46/100\n",
      "750/750 [==============================] - 0s 29us/sample - loss: 0.3380 - acc: 0.8333\n",
      "Epoch 47/100\n",
      "750/750 [==============================] - 0s 29us/sample - loss: 0.3351 - acc: 0.8347\n",
      "Epoch 48/100\n",
      "750/750 [==============================] - 0s 28us/sample - loss: 0.3321 - acc: 0.8387\n",
      "Epoch 49/100\n",
      "750/750 [==============================] - 0s 25us/sample - loss: 0.3293 - acc: 0.8427\n",
      "Epoch 50/100\n",
      "750/750 [==============================] - 0s 32us/sample - loss: 0.3266 - acc: 0.8467\n",
      "Epoch 51/100\n",
      "750/750 [==============================] - 0s 32us/sample - loss: 0.3242 - acc: 0.8493\n",
      "Epoch 52/100\n",
      "750/750 [==============================] - 0s 33us/sample - loss: 0.3217 - acc: 0.8533\n",
      "Epoch 53/100\n",
      "750/750 [==============================] - 0s 29us/sample - loss: 0.3193 - acc: 0.8547\n",
      "Epoch 54/100\n",
      "750/750 [==============================] - 0s 32us/sample - loss: 0.3169 - acc: 0.8587\n",
      "Epoch 55/100\n",
      "750/750 [==============================] - 0s 30us/sample - loss: 0.3147 - acc: 0.8613\n",
      "Epoch 56/100\n",
      "750/750 [==============================] - 0s 25us/sample - loss: 0.3126 - acc: 0.8640\n",
      "Epoch 57/100\n",
      "750/750 [==============================] - 0s 24us/sample - loss: 0.3106 - acc: 0.8640\n",
      "Epoch 58/100\n",
      "750/750 [==============================] - 0s 28us/sample - loss: 0.3085 - acc: 0.8653\n",
      "Epoch 59/100\n",
      "750/750 [==============================] - 0s 27us/sample - loss: 0.3066 - acc: 0.8653\n",
      "Epoch 60/100\n",
      "750/750 [==============================] - 0s 28us/sample - loss: 0.3048 - acc: 0.8680\n",
      "Epoch 61/100\n",
      "750/750 [==============================] - 0s 27us/sample - loss: 0.3030 - acc: 0.8693\n",
      "Epoch 62/100\n",
      "750/750 [==============================] - 0s 28us/sample - loss: 0.3013 - acc: 0.8693\n",
      "Epoch 63/100\n",
      "750/750 [==============================] - 0s 28us/sample - loss: 0.2997 - acc: 0.8693\n",
      "Epoch 64/100\n",
      "750/750 [==============================] - 0s 28us/sample - loss: 0.2981 - acc: 0.8693\n",
      "Epoch 65/100\n",
      "750/750 [==============================] - 0s 29us/sample - loss: 0.2966 - acc: 0.8693\n",
      "Epoch 66/100\n",
      "750/750 [==============================] - 0s 28us/sample - loss: 0.2951 - acc: 0.8720\n",
      "Epoch 67/100\n",
      "750/750 [==============================] - 0s 29us/sample - loss: 0.2938 - acc: 0.8720\n",
      "Epoch 68/100\n",
      "750/750 [==============================] - 0s 28us/sample - loss: 0.2924 - acc: 0.8733\n",
      "Epoch 69/100\n",
      "750/750 [==============================] - 0s 27us/sample - loss: 0.2911 - acc: 0.8733\n",
      "Epoch 70/100\n",
      "750/750 [==============================] - 0s 25us/sample - loss: 0.2898 - acc: 0.8733\n",
      "Epoch 71/100\n",
      "750/750 [==============================] - 0s 27us/sample - loss: 0.2886 - acc: 0.8733\n",
      "Epoch 72/100\n",
      "750/750 [==============================] - 0s 27us/sample - loss: 0.2876 - acc: 0.8733\n",
      "Epoch 73/100\n",
      "750/750 [==============================] - 0s 27us/sample - loss: 0.2863 - acc: 0.8733\n",
      "Epoch 74/100\n",
      "750/750 [==============================] - 0s 27us/sample - loss: 0.2853 - acc: 0.8733\n",
      "Epoch 75/100\n",
      "750/750 [==============================] - 0s 27us/sample - loss: 0.2843 - acc: 0.8747\n",
      "Epoch 76/100\n",
      "750/750 [==============================] - 0s 31us/sample - loss: 0.2832 - acc: 0.8747\n",
      "Epoch 77/100\n",
      "750/750 [==============================] - ETA: 0s - loss: 0.3711 - acc: 0.843 - 0s 27us/sample - loss: 0.2823 - acc: 0.8760\n",
      "Epoch 78/100\n",
      "750/750 [==============================] - 0s 28us/sample - loss: 0.2814 - acc: 0.8760\n",
      "Epoch 79/100\n",
      "750/750 [==============================] - 0s 29us/sample - loss: 0.2804 - acc: 0.8773\n",
      "Epoch 80/100\n",
      "750/750 [==============================] - 0s 27us/sample - loss: 0.2796 - acc: 0.8813\n",
      "Epoch 81/100\n"
     ]
    },
    {
     "name": "stdout",
     "output_type": "stream",
     "text": [
      "750/750 [==============================] - 0s 29us/sample - loss: 0.2788 - acc: 0.8800\n",
      "Epoch 82/100\n",
      "750/750 [==============================] - 0s 28us/sample - loss: 0.2780 - acc: 0.8827\n",
      "Epoch 83/100\n",
      "750/750 [==============================] - 0s 33us/sample - loss: 0.2772 - acc: 0.8827\n",
      "Epoch 84/100\n",
      "750/750 [==============================] - 0s 40us/sample - loss: 0.2763 - acc: 0.8840\n",
      "Epoch 85/100\n",
      "750/750 [==============================] - 0s 37us/sample - loss: 0.2756 - acc: 0.8840\n",
      "Epoch 86/100\n",
      "750/750 [==============================] - 0s 33us/sample - loss: 0.2749 - acc: 0.8840\n",
      "Epoch 87/100\n",
      "750/750 [==============================] - 0s 35us/sample - loss: 0.2742 - acc: 0.8853\n",
      "Epoch 88/100\n",
      "750/750 [==============================] - 0s 23us/sample - loss: 0.2736 - acc: 0.8867\n",
      "Epoch 89/100\n",
      "750/750 [==============================] - 0s 25us/sample - loss: 0.2729 - acc: 0.8893\n",
      "Epoch 90/100\n",
      "750/750 [==============================] - 0s 25us/sample - loss: 0.2722 - acc: 0.8893\n",
      "Epoch 91/100\n",
      "750/750 [==============================] - 0s 27us/sample - loss: 0.2717 - acc: 0.8880\n",
      "Epoch 92/100\n",
      "750/750 [==============================] - 0s 27us/sample - loss: 0.2710 - acc: 0.8893\n",
      "Epoch 93/100\n",
      "750/750 [==============================] - 0s 25us/sample - loss: 0.2704 - acc: 0.8907\n",
      "Epoch 94/100\n",
      "750/750 [==============================] - 0s 27us/sample - loss: 0.2698 - acc: 0.8907\n",
      "Epoch 95/100\n",
      "750/750 [==============================] - 0s 25us/sample - loss: 0.2693 - acc: 0.8920\n",
      "Epoch 96/100\n",
      "750/750 [==============================] - 0s 27us/sample - loss: 0.2688 - acc: 0.8920\n",
      "Epoch 97/100\n",
      "750/750 [==============================] - 0s 31us/sample - loss: 0.2682 - acc: 0.8933\n",
      "Epoch 98/100\n",
      "750/750 [==============================] - 0s 28us/sample - loss: 0.2678 - acc: 0.8933\n",
      "Epoch 99/100\n",
      "750/750 [==============================] - 0s 28us/sample - loss: 0.2673 - acc: 0.8933\n",
      "Epoch 100/100\n",
      "750/750 [==============================] - 0s 27us/sample - loss: 0.2668 - acc: 0.8933\n"
     ]
    }
   ],
   "source": [
    "# Training the model with the nonlinear data\n",
    "model_moon = nn_model.fit(X_moon_train_scaled, y_moon_train, epochs=100, shuffle=True)"
   ]
  },
  {
   "cell_type": "code",
   "execution_count": 19,
   "metadata": {},
   "outputs": [
    {
     "data": {
      "text/plain": [
       "<matplotlib.axes._subplots.AxesSubplot at 0x1ce29df3148>"
      ]
     },
     "execution_count": 19,
     "metadata": {},
     "output_type": "execute_result"
    },
    {
     "data": {
      "image/png": "[encoded data removed]",
      "text/plain": [
       "<Figure size 432x288 with 1 Axes>"
      ]
     },
     "metadata": {
      "needs_background": "light"
     },
     "output_type": "display_data"
    }
   ],
   "source": [
    "# Create a DataFrame containing training history\n",
    "history_df = pd.DataFrame(model_moon.history, index=range(1,len(model_moon.history[\"loss\"])+1))\n",
    "\n",
    "# Plot the loss\n",
    "history_df.plot(y=\"loss\")"
   ]
  },
  {
   "cell_type": "code",
   "execution_count": 20,
   "metadata": {},
   "outputs": [
    {
     "data": {
      "text/plain": [
       "<matplotlib.axes._subplots.AxesSubplot at 0x1ce2ae5aac8>"
      ]
     },
     "execution_count": 20,
     "metadata": {},
     "output_type": "execute_result"
    },
    {
     "data": {
      "image/png": "[encoded data removed]",
      "text/plain": [
       "<Figure size 432x288 with 1 Axes>"
      ]
     },
     "metadata": {
      "needs_background": "light"
     },
     "output_type": "display_data"
    }
   ],
   "source": [
    "# Plot the loss\n",
    "history_df.plot(y=\"acc\")"
   ]
  },
  {
   "cell_type": "markdown",
   "metadata": {},
   "source": [
    "# Create a new model with the rule of thumb: number of neurons = 2-3 times the number of inputs"
   ]
  },
  {
   "cell_type": "code",
   "execution_count": 21,
   "metadata": {},
   "outputs": [],
   "source": [
    "# Generate our new Sequential model\n",
    "new_model = tf.keras.models.Sequential()"
   ]
  },
  {
   "cell_type": "code",
   "execution_count": 22,
   "metadata": {},
   "outputs": [],
   "source": [
    "# Add the input and hidden layer\n",
    "number_inputs = 2\n",
    "number_hidden_nodes = 6\n",
    "\n",
    "new_model.add(tf.keras.layers.Dense(units = number_hidden_nodes, activation=\"relu\", input_dim = number_inputs))\n",
    "\n",
    "# Add the output layer that uses a probability activation function\n",
    "new_model.add(tf.keras.layers.Dense(units=1, activation=\"sigmoid\"))"
   ]
  },
  {
   "cell_type": "code",
   "execution_count": 23,
   "metadata": {},
   "outputs": [
    {
     "name": "stdout",
     "output_type": "stream",
     "text": [
      "Epoch 1/100\n",
      "750/750 [==============================] - 0s 118us/sample - loss: 0.7113 - acc: 0.5307\n",
      "Epoch 2/100\n",
      "750/750 [==============================] - 0s 28us/sample - loss: 0.6756 - acc: 0.5307\n",
      "Epoch 3/100\n",
      "750/750 [==============================] - 0s 29us/sample - loss: 0.6447 - acc: 0.5307\n",
      "Epoch 4/100\n",
      "750/750 [==============================] - 0s 25us/sample - loss: 0.6178 - acc: 0.5307\n",
      "Epoch 5/100\n",
      "750/750 [==============================] - 0s 31us/sample - loss: 0.5938 - acc: 0.5307\n",
      "Epoch 6/100\n",
      "750/750 [==============================] - 0s 28us/sample - loss: 0.5727 - acc: 0.5253\n",
      "Epoch 7/100\n",
      "750/750 [==============================] - 0s 31us/sample - loss: 0.5534 - acc: 0.5507\n",
      "Epoch 8/100\n",
      "750/750 [==============================] - 0s 31us/sample - loss: 0.5355 - acc: 0.6347\n",
      "Epoch 9/100\n",
      "750/750 [==============================] - 0s 32us/sample - loss: 0.5184 - acc: 0.7840\n",
      "Epoch 10/100\n",
      "750/750 [==============================] - 0s 27us/sample - loss: 0.5013 - acc: 0.8040\n",
      "Epoch 11/100\n",
      "750/750 [==============================] - 0s 33us/sample - loss: 0.4840 - acc: 0.8120\n",
      "Epoch 12/100\n",
      "750/750 [==============================] - 0s 27us/sample - loss: 0.4663 - acc: 0.8253\n",
      "Epoch 13/100\n",
      "750/750 [==============================] - 0s 33us/sample - loss: 0.4482 - acc: 0.8280\n",
      "Epoch 14/100\n",
      "750/750 [==============================] - 0s 32us/sample - loss: 0.4305 - acc: 0.8347\n",
      "Epoch 15/100\n",
      "750/750 [==============================] - 0s 32us/sample - loss: 0.4130 - acc: 0.8400\n",
      "Epoch 16/100\n",
      "750/750 [==============================] - 0s 29us/sample - loss: 0.3959 - acc: 0.8413\n",
      "Epoch 17/100\n",
      "750/750 [==============================] - 0s 33us/sample - loss: 0.3799 - acc: 0.8520\n",
      "Epoch 18/100\n",
      "750/750 [==============================] - 0s 29us/sample - loss: 0.3652 - acc: 0.8680\n",
      "Epoch 19/100\n",
      "750/750 [==============================] - ETA: 0s - loss: 0.3907 - acc: 0.843 - 0s 32us/sample - loss: 0.3516 - acc: 0.8747\n",
      "Epoch 20/100\n",
      "750/750 [==============================] - 0s 31us/sample - loss: 0.3400 - acc: 0.8760\n",
      "Epoch 21/100\n",
      "750/750 [==============================] - 0s 32us/sample - loss: 0.3291 - acc: 0.8787\n",
      "Epoch 22/100\n",
      "750/750 [==============================] - 0s 28us/sample - loss: 0.3199 - acc: 0.8800\n",
      "Epoch 23/100\n",
      "750/750 [==============================] - ETA: 0s - loss: 0.2854 - acc: 0.937 - 0s 31us/sample - loss: 0.3117 - acc: 0.8800\n",
      "Epoch 24/100\n",
      "750/750 [==============================] - 0s 29us/sample - loss: 0.3045 - acc: 0.8800\n",
      "Epoch 25/100\n",
      "750/750 [==============================] - 0s 31us/sample - loss: 0.2984 - acc: 0.8813\n",
      "Epoch 26/100\n",
      "750/750 [==============================] - 0s 33us/sample - loss: 0.2931 - acc: 0.8813\n",
      "Epoch 27/100\n",
      "750/750 [==============================] - 0s 35us/sample - loss: 0.2883 - acc: 0.8813\n",
      "Epoch 28/100\n",
      "750/750 [==============================] - 0s 25us/sample - loss: 0.2842 - acc: 0.8827\n",
      "Epoch 29/100\n",
      "750/750 [==============================] - 0s 29us/sample - loss: 0.2807 - acc: 0.8813\n",
      "Epoch 30/100\n",
      "750/750 [==============================] - 0s 31us/sample - loss: 0.2775 - acc: 0.8813\n",
      "Epoch 31/100\n",
      "750/750 [==============================] - 0s 32us/sample - loss: 0.2748 - acc: 0.8813\n",
      "Epoch 32/100\n",
      "750/750 [==============================] - 0s 29us/sample - loss: 0.2724 - acc: 0.8813\n",
      "Epoch 33/100\n",
      "750/750 [==============================] - 0s 32us/sample - loss: 0.2702 - acc: 0.8813\n",
      "Epoch 34/100\n",
      "750/750 [==============================] - 0s 27us/sample - loss: 0.2684 - acc: 0.8827\n",
      "Epoch 35/100\n",
      "750/750 [==============================] - ETA: 0s - loss: 0.2707 - acc: 0.875 - 0s 29us/sample - loss: 0.2666 - acc: 0.8853\n",
      "Epoch 36/100\n",
      "750/750 [==============================] - 0s 32us/sample - loss: 0.2652 - acc: 0.8867\n",
      "Epoch 37/100\n",
      "750/750 [==============================] - 0s 31us/sample - loss: 0.2637 - acc: 0.8893\n",
      "Epoch 38/100\n",
      "750/750 [==============================] - 0s 29us/sample - loss: 0.2624 - acc: 0.8893\n",
      "Epoch 39/100\n",
      "750/750 [==============================] - 0s 32us/sample - loss: 0.2613 - acc: 0.8880\n",
      "Epoch 40/100\n",
      "750/750 [==============================] - 0s 32us/sample - loss: 0.2603 - acc: 0.8880\n",
      "Epoch 41/100\n",
      "750/750 [==============================] - 0s 32us/sample - loss: 0.2593 - acc: 0.8893\n",
      "Epoch 42/100\n",
      "750/750 [==============================] - 0s 28us/sample - loss: 0.2584 - acc: 0.8893\n",
      "Epoch 43/100\n",
      "750/750 [==============================] - 0s 32us/sample - loss: 0.2576 - acc: 0.8893\n",
      "Epoch 44/100\n",
      "750/750 [==============================] - 0s 29us/sample - loss: 0.2567 - acc: 0.8907\n",
      "Epoch 45/100\n",
      "750/750 [==============================] - 0s 31us/sample - loss: 0.2560 - acc: 0.8907\n",
      "Epoch 46/100\n",
      "750/750 [==============================] - 0s 28us/sample - loss: 0.2552 - acc: 0.8907\n",
      "Epoch 47/100\n",
      "750/750 [==============================] - 0s 32us/sample - loss: 0.2545 - acc: 0.8920\n",
      "Epoch 48/100\n",
      "750/750 [==============================] - 0s 29us/sample - loss: 0.2539 - acc: 0.8907\n",
      "Epoch 49/100\n",
      "750/750 [==============================] - 0s 33us/sample - loss: 0.2531 - acc: 0.8920\n",
      "Epoch 50/100\n",
      "750/750 [==============================] - 0s 33us/sample - loss: 0.2524 - acc: 0.8920\n",
      "Epoch 51/100\n",
      "750/750 [==============================] - 0s 35us/sample - loss: 0.2518 - acc: 0.8920\n",
      "Epoch 52/100\n",
      "750/750 [==============================] - 0s 33us/sample - loss: 0.2511 - acc: 0.8920\n",
      "Epoch 53/100\n",
      "750/750 [==============================] - 0s 32us/sample - loss: 0.2505 - acc: 0.8920\n",
      "Epoch 54/100\n",
      "750/750 [==============================] - 0s 36us/sample - loss: 0.2498 - acc: 0.8920\n",
      "Epoch 55/100\n",
      "750/750 [==============================] - 0s 33us/sample - loss: 0.2492 - acc: 0.8933\n",
      "Epoch 56/100\n",
      "750/750 [==============================] - 0s 27us/sample - loss: 0.2485 - acc: 0.8933\n",
      "Epoch 57/100\n",
      "750/750 [==============================] - 0s 31us/sample - loss: 0.2479 - acc: 0.8933\n",
      "Epoch 58/100\n",
      "750/750 [==============================] - 0s 28us/sample - loss: 0.2472 - acc: 0.8947\n",
      "Epoch 59/100\n",
      "750/750 [==============================] - 0s 29us/sample - loss: 0.2466 - acc: 0.8960\n",
      "Epoch 60/100\n",
      "750/750 [==============================] - 0s 28us/sample - loss: 0.2459 - acc: 0.8960\n",
      "Epoch 61/100\n",
      "750/750 [==============================] - 0s 36us/sample - loss: 0.2453 - acc: 0.8960\n",
      "Epoch 62/100\n",
      "750/750 [==============================] - 0s 31us/sample - loss: 0.2447 - acc: 0.8973\n",
      "Epoch 63/100\n",
      "750/750 [==============================] - 0s 29us/sample - loss: 0.2440 - acc: 0.8987\n",
      "Epoch 64/100\n",
      "750/750 [==============================] - 0s 28us/sample - loss: 0.2435 - acc: 0.8973\n",
      "Epoch 65/100\n",
      "750/750 [==============================] - 0s 29us/sample - loss: 0.2428 - acc: 0.8973\n",
      "Epoch 66/100\n",
      "750/750 [==============================] - 0s 28us/sample - loss: 0.2422 - acc: 0.8987\n",
      "Epoch 67/100\n",
      "750/750 [==============================] - 0s 25us/sample - loss: 0.2417 - acc: 0.8960\n",
      "Epoch 68/100\n",
      "750/750 [==============================] - 0s 27us/sample - loss: 0.2409 - acc: 0.8987\n",
      "Epoch 69/100\n",
      "750/750 [==============================] - 0s 28us/sample - loss: 0.2402 - acc: 0.9000\n",
      "Epoch 70/100\n",
      "750/750 [==============================] - 0s 31us/sample - loss: 0.2397 - acc: 0.9000\n",
      "Epoch 71/100\n",
      "750/750 [==============================] - 0s 31us/sample - loss: 0.2390 - acc: 0.9000\n",
      "Epoch 72/100\n",
      "750/750 [==============================] - 0s 32us/sample - loss: 0.2384 - acc: 0.9000\n",
      "Epoch 73/100\n",
      "750/750 [==============================] - 0s 31us/sample - loss: 0.2377 - acc: 0.9000\n",
      "Epoch 74/100\n",
      "750/750 [==============================] - 0s 31us/sample - loss: 0.2371 - acc: 0.9000\n",
      "Epoch 75/100\n",
      "750/750 [==============================] - 0s 31us/sample - loss: 0.2363 - acc: 0.9000\n",
      "Epoch 76/100\n",
      "750/750 [==============================] - 0s 27us/sample - loss: 0.2356 - acc: 0.9000\n",
      "Epoch 77/100\n",
      "750/750 [==============================] - 0s 31us/sample - loss: 0.2349 - acc: 0.9000\n",
      "Epoch 78/100\n",
      "750/750 [==============================] - 0s 29us/sample - loss: 0.2344 - acc: 0.9000\n",
      "Epoch 79/100\n",
      "750/750 [==============================] - 0s 29us/sample - loss: 0.2335 - acc: 0.9000\n",
      "Epoch 80/100\n",
      "750/750 [==============================] - 0s 32us/sample - loss: 0.2328 - acc: 0.9013\n",
      "Epoch 81/100\n"
     ]
    },
    {
     "name": "stdout",
     "output_type": "stream",
     "text": [
      "750/750 [==============================] - 0s 29us/sample - loss: 0.2320 - acc: 0.9013\n",
      "Epoch 82/100\n",
      "750/750 [==============================] - 0s 32us/sample - loss: 0.2313 - acc: 0.9027\n",
      "Epoch 83/100\n",
      "750/750 [==============================] - 0s 27us/sample - loss: 0.2307 - acc: 0.9027\n",
      "Epoch 84/100\n",
      "750/750 [==============================] - 0s 29us/sample - loss: 0.2299 - acc: 0.9027\n",
      "Epoch 85/100\n",
      "750/750 [==============================] - 0s 28us/sample - loss: 0.2291 - acc: 0.9027\n",
      "Epoch 86/100\n",
      "750/750 [==============================] - 0s 29us/sample - loss: 0.2284 - acc: 0.9027\n",
      "Epoch 87/100\n",
      "750/750 [==============================] - 0s 28us/sample - loss: 0.2278 - acc: 0.9027\n",
      "Epoch 88/100\n",
      "750/750 [==============================] - 0s 25us/sample - loss: 0.2270 - acc: 0.9027\n",
      "Epoch 89/100\n",
      "750/750 [==============================] - 0s 27us/sample - loss: 0.2264 - acc: 0.9027\n",
      "Epoch 90/100\n",
      "750/750 [==============================] - 0s 29us/sample - loss: 0.2255 - acc: 0.9027\n",
      "Epoch 91/100\n",
      "750/750 [==============================] - 0s 31us/sample - loss: 0.2249 - acc: 0.9027\n",
      "Epoch 92/100\n",
      "750/750 [==============================] - 0s 25us/sample - loss: 0.2242 - acc: 0.9027\n",
      "Epoch 93/100\n",
      "750/750 [==============================] - 0s 31us/sample - loss: 0.2235 - acc: 0.9027\n",
      "Epoch 94/100\n",
      "750/750 [==============================] - ETA: 0s - loss: 0.0971 - acc: 0.968 - 0s 31us/sample - loss: 0.2229 - acc: 0.9027\n",
      "Epoch 95/100\n",
      "750/750 [==============================] - 0s 31us/sample - loss: 0.2222 - acc: 0.9027\n",
      "Epoch 96/100\n",
      "750/750 [==============================] - ETA: 0s - loss: 0.0806 - acc: 1.000 - 0s 31us/sample - loss: 0.2214 - acc: 0.9027\n",
      "Epoch 97/100\n",
      "750/750 [==============================] - 0s 33us/sample - loss: 0.2208 - acc: 0.9027\n",
      "Epoch 98/100\n",
      "750/750 [==============================] - 0s 32us/sample - loss: 0.2200 - acc: 0.9027\n",
      "Epoch 99/100\n",
      "750/750 [==============================] - 0s 31us/sample - loss: 0.2192 - acc: 0.9027\n",
      "Epoch 100/100\n",
      "750/750 [==============================] - 0s 31us/sample - loss: 0.2185 - acc: 0.9040\n"
     ]
    }
   ],
   "source": [
    "# Compile the Sequential model together and customize metrics\n",
    "new_model.compile(loss=\"binary_crossentropy\", optimizer=\"adam\", metrics=[\"accuracy\"])\n",
    "\n",
    "# Fit the model to the training data\n",
    "new_fit_model = new_model.fit(X_moon_train_scaled, y_moon_train, epochs=100, shuffle=True)"
   ]
  },
  {
   "cell_type": "code",
   "execution_count": null,
   "metadata": {},
   "outputs": [],
   "source": []
  }
 ],
 "metadata": {
  "kernelspec": {
   "display_name": "PythonData",
   "language": "python",
   "name": "pythondata"
  },
  "language_info": {
   "codemirror_mode": {
    "name": "ipython",
    "version": 3
   },
   "file_extension": ".py",
   "mimetype": "text/x-python",
   "name": "python",
   "nbconvert_exporter": "python",
   "pygments_lexer": "ipython3",
   "version": "3.7.7"
  }
 },
 "nbformat": 4,
 "nbformat_minor": 4
}
