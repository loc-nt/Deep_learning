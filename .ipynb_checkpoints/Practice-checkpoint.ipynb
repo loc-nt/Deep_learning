{
 "cells": [
  {
   "cell_type": "code",
   "execution_count": 1,
   "metadata": {},
   "outputs": [
    {
     "name": "stderr",
     "output_type": "stream",
     "text": [
      "C:\\Users\\LocNguyen\\anaconda3\\envs\\PythonData\\lib\\site-packages\\tensorflow\\python\\framework\\dtypes.py:516: FutureWarning: Passing (type, 1) or '1type' as a synonym of type is deprecated; in a future version of numpy, it will be understood as (type, (1,)) / '(1,)type'.\n",
      "  _np_qint8 = np.dtype([(\"qint8\", np.int8, 1)])\n",
      "C:\\Users\\LocNguyen\\anaconda3\\envs\\PythonData\\lib\\site-packages\\tensorflow\\python\\framework\\dtypes.py:517: FutureWarning: Passing (type, 1) or '1type' as a synonym of type is deprecated; in a future version of numpy, it will be understood as (type, (1,)) / '(1,)type'.\n",
      "  _np_quint8 = np.dtype([(\"quint8\", np.uint8, 1)])\n",
      "C:\\Users\\LocNguyen\\anaconda3\\envs\\PythonData\\lib\\site-packages\\tensorflow\\python\\framework\\dtypes.py:518: FutureWarning: Passing (type, 1) or '1type' as a synonym of type is deprecated; in a future version of numpy, it will be understood as (type, (1,)) / '(1,)type'.\n",
      "  _np_qint16 = np.dtype([(\"qint16\", np.int16, 1)])\n",
      "C:\\Users\\LocNguyen\\anaconda3\\envs\\PythonData\\lib\\site-packages\\tensorflow\\python\\framework\\dtypes.py:519: FutureWarning: Passing (type, 1) or '1type' as a synonym of type is deprecated; in a future version of numpy, it will be understood as (type, (1,)) / '(1,)type'.\n",
      "  _np_quint16 = np.dtype([(\"quint16\", np.uint16, 1)])\n",
      "C:\\Users\\LocNguyen\\anaconda3\\envs\\PythonData\\lib\\site-packages\\tensorflow\\python\\framework\\dtypes.py:520: FutureWarning: Passing (type, 1) or '1type' as a synonym of type is deprecated; in a future version of numpy, it will be understood as (type, (1,)) / '(1,)type'.\n",
      "  _np_qint32 = np.dtype([(\"qint32\", np.int32, 1)])\n",
      "C:\\Users\\LocNguyen\\anaconda3\\envs\\PythonData\\lib\\site-packages\\tensorflow\\python\\framework\\dtypes.py:525: FutureWarning: Passing (type, 1) or '1type' as a synonym of type is deprecated; in a future version of numpy, it will be understood as (type, (1,)) / '(1,)type'.\n",
      "  np_resource = np.dtype([(\"resource\", np.ubyte, 1)])\n",
      "C:\\Users\\LocNguyen\\anaconda3\\envs\\PythonData\\lib\\site-packages\\tensorboard\\compat\\tensorflow_stub\\dtypes.py:541: FutureWarning: Passing (type, 1) or '1type' as a synonym of type is deprecated; in a future version of numpy, it will be understood as (type, (1,)) / '(1,)type'.\n",
      "  _np_qint8 = np.dtype([(\"qint8\", np.int8, 1)])\n",
      "C:\\Users\\LocNguyen\\anaconda3\\envs\\PythonData\\lib\\site-packages\\tensorboard\\compat\\tensorflow_stub\\dtypes.py:542: FutureWarning: Passing (type, 1) or '1type' as a synonym of type is deprecated; in a future version of numpy, it will be understood as (type, (1,)) / '(1,)type'.\n",
      "  _np_quint8 = np.dtype([(\"quint8\", np.uint8, 1)])\n",
      "C:\\Users\\LocNguyen\\anaconda3\\envs\\PythonData\\lib\\site-packages\\tensorboard\\compat\\tensorflow_stub\\dtypes.py:543: FutureWarning: Passing (type, 1) or '1type' as a synonym of type is deprecated; in a future version of numpy, it will be understood as (type, (1,)) / '(1,)type'.\n",
      "  _np_qint16 = np.dtype([(\"qint16\", np.int16, 1)])\n",
      "C:\\Users\\LocNguyen\\anaconda3\\envs\\PythonData\\lib\\site-packages\\tensorboard\\compat\\tensorflow_stub\\dtypes.py:544: FutureWarning: Passing (type, 1) or '1type' as a synonym of type is deprecated; in a future version of numpy, it will be understood as (type, (1,)) / '(1,)type'.\n",
      "  _np_quint16 = np.dtype([(\"quint16\", np.uint16, 1)])\n",
      "C:\\Users\\LocNguyen\\anaconda3\\envs\\PythonData\\lib\\site-packages\\tensorboard\\compat\\tensorflow_stub\\dtypes.py:545: FutureWarning: Passing (type, 1) or '1type' as a synonym of type is deprecated; in a future version of numpy, it will be understood as (type, (1,)) / '(1,)type'.\n",
      "  _np_qint32 = np.dtype([(\"qint32\", np.int32, 1)])\n",
      "C:\\Users\\LocNguyen\\anaconda3\\envs\\PythonData\\lib\\site-packages\\tensorboard\\compat\\tensorflow_stub\\dtypes.py:550: FutureWarning: Passing (type, 1) or '1type' as a synonym of type is deprecated; in a future version of numpy, it will be understood as (type, (1,)) / '(1,)type'.\n",
      "  np_resource = np.dtype([(\"resource\", np.ubyte, 1)])\n"
     ]
    }
   ],
   "source": [
    "# Import our dependencies\n",
    "import pandas as pd\n",
    "import matplotlib as plt\n",
    "from sklearn.datasets import make_blobs\n",
    "import sklearn as skl\n",
    "import tensorflow as tf"
   ]
  },
  {
   "cell_type": "code",
   "execution_count": 2,
   "metadata": {},
   "outputs": [
    {
     "data": {
      "text/plain": [
       "<matplotlib.axes._subplots.AxesSubplot at 0x29d1a549ec8>"
      ]
     },
     "execution_count": 2,
     "metadata": {},
     "output_type": "execute_result"
    },
    {
     "data": {
      "image/png": "[encoded data removed]",
      "text/plain": [
       "<Figure size 432x288 with 2 Axes>"
      ]
     },
     "metadata": {
      "needs_background": "light"
     },
     "output_type": "display_data"
    }
   ],
   "source": [
    "# Generate dummy dataset\n",
    "# Data is linearly separable: output is either 0 or 1\n",
    "X, y = make_blobs(n_samples=1000, centers=2, n_features=2, random_state=78)\n",
    "\n",
    "# Creating a DataFrame with the dummy data\n",
    "df = pd.DataFrame(X, columns=[\"Feature 1\", \"Feature 2\"])\n",
    "df[\"Target\"] = y\n",
    "\n",
    "# Plotting the dummy data\n",
    "df.plot.scatter(x=\"Feature 1\", y=\"Feature 2\", c=\"Target\", colormap=\"winter\")"
   ]
  },
  {
   "cell_type": "markdown",
   "metadata": {},
   "source": [
    "#  Build a neural network model"
   ]
  },
  {
   "cell_type": "code",
   "execution_count": 5,
   "metadata": {},
   "outputs": [],
   "source": [
    "# Use sklearn to split dataset\n",
    "from sklearn.model_selection import train_test_split\n",
    "X_train, X_test, y_train, y_test = train_test_split(X, y, random_state=78)"
   ]
  },
  {
   "cell_type": "code",
   "execution_count": 6,
   "metadata": {},
   "outputs": [],
   "source": [
    "# Normalize or standardize our numerical variables\n",
    "# Create scaler instance\n",
    "X_scaler = skl.preprocessing.StandardScaler()\n",
    "\n",
    "# Fit the scaler\n",
    "X_scaler.fit(X_train)\n",
    "\n",
    "# Scale the data\n",
    "X_train_scaled = X_scaler.transform(X_train)\n",
    "X_test_scaled = X_scaler.transform(X_test)"
   ]
  },
  {
   "cell_type": "code",
   "execution_count": 9,
   "metadata": {},
   "outputs": [],
   "source": [
    "# Create the Keras Sequential model\n",
    "nn_model = tf.keras.models.Sequential()"
   ]
  },
  {
   "cell_type": "code",
   "execution_count": 10,
   "metadata": {},
   "outputs": [
    {
     "name": "stdout",
     "output_type": "stream",
     "text": [
      "WARNING:tensorflow:From C:\\Users\\LocNguyen\\anaconda3\\envs\\PythonData\\lib\\site-packages\\tensorflow\\python\\ops\\init_ops.py:1251: calling VarianceScaling.__init__ (from tensorflow.python.ops.init_ops) with dtype is deprecated and will be removed in a future version.\n",
      "Instructions for updating:\n",
      "Call initializer instance with the dtype argument instead of passing it to the constructor\n"
     ]
    }
   ],
   "source": [
    "# Add our first Dense layer (or hidden layer), including the input layer\n",
    "# The input and first hidden layer are always built in the same instance\n",
    "    # unit = # of neurons\n",
    "    # input_dim: # of inputs, here we have 2 features\n",
    "nn_model.add(tf.keras.layers.Dense(units=1, activation=\"relu\", input_dim=2))"
   ]
  },
  {
   "cell_type": "code",
   "execution_count": 11,
   "metadata": {},
   "outputs": [],
   "source": [
    "# Add the output layer that uses a probability activation function\n",
    "nn_model.add(tf.keras.layers.Dense(units=1, activation=\"sigmoid\"))"
   ]
  },
  {
   "cell_type": "code",
   "execution_count": 12,
   "metadata": {},
   "outputs": [
    {
     "name": "stdout",
     "output_type": "stream",
     "text": [
      "Model: \"sequential\"\n",
      "_________________________________________________________________\n",
      "Layer (type)                 Output Shape              Param #   \n",
      "=================================================================\n",
      "dense (Dense)                (None, 1)                 3         \n",
      "_________________________________________________________________\n",
      "dense_1 (Dense)              (None, 1)                 2         \n",
      "=================================================================\n",
      "Total params: 5\n",
      "Trainable params: 5\n",
      "Non-trainable params: 0\n",
      "_________________________________________________________________\n"
     ]
    }
   ],
   "source": [
    "# Check the structure of the Sequential model\n",
    "nn_model.summary()"
   ]
  },
  {
   "cell_type": "code",
   "execution_count": 13,
   "metadata": {},
   "outputs": [
    {
     "name": "stdout",
     "output_type": "stream",
     "text": [
      "WARNING:tensorflow:From C:\\Users\\LocNguyen\\anaconda3\\envs\\PythonData\\lib\\site-packages\\tensorflow\\python\\ops\\nn_impl.py:180: add_dispatch_support.<locals>.wrapper (from tensorflow.python.ops.array_ops) is deprecated and will be removed in a future version.\n",
      "Instructions for updating:\n",
      "Use tf.where in 2.0, which has the same broadcast rule as np.where\n"
     ]
    }
   ],
   "source": [
    "# Compile the Sequential model together and customize metrics\n",
    "nn_model.compile(loss=\"binary_crossentropy\", optimizer=\"adam\", metrics=[\"accuracy\"])"
   ]
  },
  {
   "cell_type": "markdown",
   "metadata": {},
   "source": [
    "# Train and fit the above model to the data"
   ]
  },
  {
   "cell_type": "code",
   "execution_count": 14,
   "metadata": {},
   "outputs": [
    {
     "name": "stdout",
     "output_type": "stream",
     "text": [
      "Epoch 1/100\n",
      "750/750 [==============================] - 0s 144us/sample - loss: 0.6363 - acc: 0.6880\n",
      "Epoch 2/100\n",
      "750/750 [==============================] - 0s 32us/sample - loss: 0.6271 - acc: 0.7053\n",
      "Epoch 3/100\n",
      "750/750 [==============================] - 0s 43us/sample - loss: 0.6181 - acc: 0.7200\n",
      "Epoch 4/100\n",
      "750/750 [==============================] - 0s 49us/sample - loss: 0.6089 - acc: 0.7320\n",
      "Epoch 5/100\n",
      "750/750 [==============================] - 0s 33us/sample - loss: 0.5999 - acc: 0.7427\n",
      "Epoch 6/100\n",
      "750/750 [==============================] - 0s 49us/sample - loss: 0.5910 - acc: 0.7547\n",
      "Epoch 7/100\n",
      "750/750 [==============================] - 0s 71us/sample - loss: 0.5820 - acc: 0.7613\n",
      "Epoch 8/100\n",
      "750/750 [==============================] - 0s 40us/sample - loss: 0.5731 - acc: 0.7720\n",
      "Epoch 9/100\n",
      "750/750 [==============================] - 0s 31us/sample - loss: 0.5642 - acc: 0.7787\n",
      "Epoch 10/100\n",
      "750/750 [==============================] - 0s 28us/sample - loss: 0.5552 - acc: 0.7867\n",
      "Epoch 11/100\n",
      "750/750 [==============================] - 0s 29us/sample - loss: 0.5462 - acc: 0.7933\n",
      "Epoch 12/100\n",
      "750/750 [==============================] - 0s 27us/sample - loss: 0.5370 - acc: 0.8013\n",
      "Epoch 13/100\n",
      "750/750 [==============================] - 0s 27us/sample - loss: 0.5279 - acc: 0.8053\n",
      "Epoch 14/100\n",
      "750/750 [==============================] - 0s 29us/sample - loss: 0.5185 - acc: 0.8133\n",
      "Epoch 15/100\n",
      "750/750 [==============================] - 0s 25us/sample - loss: 0.5093 - acc: 0.8240\n",
      "Epoch 16/100\n",
      "750/750 [==============================] - 0s 25us/sample - loss: 0.4999 - acc: 0.8293\n",
      "Epoch 17/100\n",
      "750/750 [==============================] - 0s 29us/sample - loss: 0.4908 - acc: 0.8373\n",
      "Epoch 18/100\n",
      "750/750 [==============================] - 0s 27us/sample - loss: 0.4817 - acc: 0.8440\n",
      "Epoch 19/100\n",
      "750/750 [==============================] - 0s 27us/sample - loss: 0.4729 - acc: 0.8507\n",
      "Epoch 20/100\n",
      "750/750 [==============================] - 0s 28us/sample - loss: 0.4642 - acc: 0.8573\n",
      "Epoch 21/100\n",
      "750/750 [==============================] - 0s 28us/sample - loss: 0.4555 - acc: 0.8640\n",
      "Epoch 22/100\n",
      "750/750 [==============================] - 0s 28us/sample - loss: 0.4472 - acc: 0.8707\n",
      "Epoch 23/100\n",
      "750/750 [==============================] - 0s 29us/sample - loss: 0.4388 - acc: 0.8760\n",
      "Epoch 24/100\n",
      "750/750 [==============================] - 0s 27us/sample - loss: 0.4303 - acc: 0.8813\n",
      "Epoch 25/100\n",
      "750/750 [==============================] - 0s 32us/sample - loss: 0.4219 - acc: 0.8853\n",
      "Epoch 26/100\n",
      "750/750 [==============================] - 0s 29us/sample - loss: 0.4135 - acc: 0.8880\n",
      "Epoch 27/100\n",
      "750/750 [==============================] - 0s 27us/sample - loss: 0.4054 - acc: 0.8880\n",
      "Epoch 28/100\n",
      "750/750 [==============================] - 0s 28us/sample - loss: 0.3975 - acc: 0.8907\n",
      "Epoch 29/100\n",
      "750/750 [==============================] - 0s 37us/sample - loss: 0.3896 - acc: 0.8933\n",
      "Epoch 30/100\n",
      "750/750 [==============================] - 0s 33us/sample - loss: 0.3818 - acc: 0.8960\n",
      "Epoch 31/100\n",
      "750/750 [==============================] - 0s 31us/sample - loss: 0.3742 - acc: 0.8973\n",
      "Epoch 32/100\n",
      "750/750 [==============================] - 0s 33us/sample - loss: 0.3666 - acc: 0.9040\n",
      "Epoch 33/100\n",
      "750/750 [==============================] - 0s 51us/sample - loss: 0.3592 - acc: 0.9067\n",
      "Epoch 34/100\n",
      "750/750 [==============================] - 0s 40us/sample - loss: 0.3520 - acc: 0.9093\n",
      "Epoch 35/100\n",
      "750/750 [==============================] - 0s 36us/sample - loss: 0.3449 - acc: 0.9147\n",
      "Epoch 36/100\n",
      "750/750 [==============================] - 0s 49us/sample - loss: 0.3381 - acc: 0.9200\n",
      "Epoch 37/100\n",
      "750/750 [==============================] - 0s 59us/sample - loss: 0.3314 - acc: 0.9227\n",
      "Epoch 38/100\n",
      "750/750 [==============================] - 0s 35us/sample - loss: 0.3247 - acc: 0.9293\n",
      "Epoch 39/100\n",
      "750/750 [==============================] - 0s 41us/sample - loss: 0.3181 - acc: 0.9320\n",
      "Epoch 40/100\n",
      "750/750 [==============================] - 0s 27us/sample - loss: 0.3116 - acc: 0.9373\n",
      "Epoch 41/100\n",
      "750/750 [==============================] - 0s 29us/sample - loss: 0.3052 - acc: 0.9387\n",
      "Epoch 42/100\n",
      "750/750 [==============================] - 0s 29us/sample - loss: 0.2989 - acc: 0.9387\n",
      "Epoch 43/100\n",
      "750/750 [==============================] - 0s 31us/sample - loss: 0.2927 - acc: 0.9413\n",
      "Epoch 44/100\n",
      "750/750 [==============================] - 0s 28us/sample - loss: 0.2865 - acc: 0.9453\n",
      "Epoch 45/100\n",
      "750/750 [==============================] - 0s 28us/sample - loss: 0.2806 - acc: 0.9453\n",
      "Epoch 46/100\n",
      "750/750 [==============================] - 0s 27us/sample - loss: 0.2745 - acc: 0.9467\n",
      "Epoch 47/100\n",
      "750/750 [==============================] - 0s 31us/sample - loss: 0.2686 - acc: 0.9493\n",
      "Epoch 48/100\n",
      "750/750 [==============================] - 0s 29us/sample - loss: 0.2629 - acc: 0.9493\n",
      "Epoch 49/100\n",
      "750/750 [==============================] - 0s 27us/sample - loss: 0.2571 - acc: 0.9493\n",
      "Epoch 50/100\n",
      "750/750 [==============================] - 0s 29us/sample - loss: 0.2515 - acc: 0.9507\n",
      "Epoch 51/100\n",
      "750/750 [==============================] - 0s 27us/sample - loss: 0.2460 - acc: 0.9547\n",
      "Epoch 52/100\n",
      "750/750 [==============================] - 0s 31us/sample - loss: 0.2405 - acc: 0.9547\n",
      "Epoch 53/100\n",
      "750/750 [==============================] - 0s 29us/sample - loss: 0.2353 - acc: 0.9573\n",
      "Epoch 54/100\n",
      "750/750 [==============================] - 0s 31us/sample - loss: 0.2299 - acc: 0.9573\n",
      "Epoch 55/100\n",
      "750/750 [==============================] - 0s 30us/sample - loss: 0.2245 - acc: 0.9573\n",
      "Epoch 56/100\n",
      "750/750 [==============================] - 0s 28us/sample - loss: 0.2192 - acc: 0.9600\n",
      "Epoch 57/100\n",
      "750/750 [==============================] - 0s 29us/sample - loss: 0.2141 - acc: 0.9627\n",
      "Epoch 58/100\n",
      "750/750 [==============================] - 0s 28us/sample - loss: 0.2091 - acc: 0.9640\n",
      "Epoch 59/100\n",
      "750/750 [==============================] - 0s 27us/sample - loss: 0.2043 - acc: 0.9653\n",
      "Epoch 60/100\n",
      "750/750 [==============================] - 0s 31us/sample - loss: 0.1996 - acc: 0.9667\n",
      "Epoch 61/100\n",
      "750/750 [==============================] - 0s 31us/sample - loss: 0.1949 - acc: 0.9680\n",
      "Epoch 62/100\n",
      "750/750 [==============================] - 0s 26us/sample - loss: 0.1904 - acc: 0.9707\n",
      "Epoch 63/100\n",
      "750/750 [==============================] - 0s 29us/sample - loss: 0.1861 - acc: 0.9733\n",
      "Epoch 64/100\n",
      "750/750 [==============================] - 0s 30us/sample - loss: 0.1817 - acc: 0.9760\n",
      "Epoch 65/100\n",
      "750/750 [==============================] - 0s 25us/sample - loss: 0.1775 - acc: 0.9760\n",
      "Epoch 66/100\n",
      "750/750 [==============================] - 0s 28us/sample - loss: 0.1732 - acc: 0.9787\n",
      "Epoch 67/100\n",
      "750/750 [==============================] - 0s 33us/sample - loss: 0.1692 - acc: 0.9800\n",
      "Epoch 68/100\n",
      "750/750 [==============================] - 0s 29us/sample - loss: 0.1652 - acc: 0.9800\n",
      "Epoch 69/100\n",
      "750/750 [==============================] - 0s 31us/sample - loss: 0.1614 - acc: 0.9827\n",
      "Epoch 70/100\n",
      "750/750 [==============================] - 0s 29us/sample - loss: 0.1577 - acc: 0.9827\n",
      "Epoch 71/100\n",
      "750/750 [==============================] - 0s 27us/sample - loss: 0.1541 - acc: 0.9853\n",
      "Epoch 72/100\n",
      "750/750 [==============================] - 0s 27us/sample - loss: 0.1506 - acc: 0.9880\n",
      "Epoch 73/100\n",
      "750/750 [==============================] - 0s 37us/sample - loss: 0.1472 - acc: 0.9893\n",
      "Epoch 74/100\n",
      "750/750 [==============================] - 0s 31us/sample - loss: 0.1439 - acc: 0.9893\n",
      "Epoch 75/100\n",
      "750/750 [==============================] - 0s 28us/sample - loss: 0.1407 - acc: 0.9893\n",
      "Epoch 76/100\n",
      "750/750 [==============================] - 0s 29us/sample - loss: 0.1376 - acc: 0.9907\n",
      "Epoch 77/100\n",
      "750/750 [==============================] - 0s 32us/sample - loss: 0.1346 - acc: 0.9933\n",
      "Epoch 78/100\n",
      "750/750 [==============================] - 0s 29us/sample - loss: 0.1316 - acc: 0.9933\n",
      "Epoch 79/100\n",
      "750/750 [==============================] - 0s 28us/sample - loss: 0.1288 - acc: 0.9933\n",
      "Epoch 80/100\n",
      "750/750 [==============================] - 0s 29us/sample - loss: 0.1261 - acc: 0.9933\n",
      "Epoch 81/100\n",
      "750/750 [==============================] - 0s 29us/sample - loss: 0.1233 - acc: 0.9947\n",
      "Epoch 82/100\n",
      "750/750 [==============================] - 0s 27us/sample - loss: 0.1208 - acc: 0.9947\n",
      "Epoch 83/100\n"
     ]
    },
    {
     "name": "stdout",
     "output_type": "stream",
     "text": [
      "750/750 [==============================] - 0s 29us/sample - loss: 0.1182 - acc: 0.9947\n",
      "Epoch 84/100\n",
      "750/750 [==============================] - 0s 31us/sample - loss: 0.1158 - acc: 0.9947\n",
      "Epoch 85/100\n",
      "750/750 [==============================] - 0s 29us/sample - loss: 0.1133 - acc: 0.9947\n",
      "Epoch 86/100\n",
      "750/750 [==============================] - 0s 28us/sample - loss: 0.1111 - acc: 0.9947\n",
      "Epoch 87/100\n",
      "750/750 [==============================] - 0s 29us/sample - loss: 0.1088 - acc: 0.9960\n",
      "Epoch 88/100\n",
      "750/750 [==============================] - 0s 29us/sample - loss: 0.1066 - acc: 0.9960\n",
      "Epoch 89/100\n",
      "750/750 [==============================] - 0s 27us/sample - loss: 0.1045 - acc: 0.9960\n",
      "Epoch 90/100\n",
      "750/750 [==============================] - 0s 25us/sample - loss: 0.1025 - acc: 0.9960\n",
      "Epoch 91/100\n",
      "750/750 [==============================] - 0s 28us/sample - loss: 0.1004 - acc: 0.9960\n",
      "Epoch 92/100\n",
      "750/750 [==============================] - 0s 29us/sample - loss: 0.0984 - acc: 0.9960\n",
      "Epoch 93/100\n",
      "750/750 [==============================] - 0s 28us/sample - loss: 0.0966 - acc: 0.9960\n",
      "Epoch 94/100\n",
      "750/750 [==============================] - 0s 31us/sample - loss: 0.0947 - acc: 0.9960\n",
      "Epoch 95/100\n",
      "750/750 [==============================] - 0s 28us/sample - loss: 0.0929 - acc: 0.9960\n",
      "Epoch 96/100\n",
      "750/750 [==============================] - 0s 27us/sample - loss: 0.0912 - acc: 0.9960\n",
      "Epoch 97/100\n",
      "750/750 [==============================] - 0s 28us/sample - loss: 0.0895 - acc: 0.9960\n",
      "Epoch 98/100\n",
      "750/750 [==============================] - 0s 27us/sample - loss: 0.0878 - acc: 0.9960\n",
      "Epoch 99/100\n",
      "750/750 [==============================] - 0s 28us/sample - loss: 0.0862 - acc: 0.9960\n",
      "Epoch 100/100\n",
      "750/750 [==============================] - 0s 29us/sample - loss: 0.0847 - acc: 0.9960\n"
     ]
    }
   ],
   "source": [
    "# Fit the model to the training data (you pick the epoch yourself)\n",
    "fit_model = nn_model.fit(X_train_scaled, y_train, epochs=100)"
   ]
  },
  {
   "cell_type": "code",
   "execution_count": 17,
   "metadata": {},
   "outputs": [
    {
     "data": {
      "text/html": [
       "<div>\n",
       "<style scoped>\n",
       "    .dataframe tbody tr th:only-of-type {\n",
       "        vertical-align: middle;\n",
       "    }\n",
       "\n",
       "    .dataframe tbody tr th {\n",
       "        vertical-align: top;\n",
       "    }\n",
       "\n",
       "    .dataframe thead th {\n",
       "        text-align: right;\n",
       "    }\n",
       "</style>\n",
       "<table border=\"1\" class=\"dataframe\">\n",
       "  <thead>\n",
       "    <tr style=\"text-align: right;\">\n",
       "      <th></th>\n",
       "      <th>loss</th>\n",
       "      <th>acc</th>\n",
       "    </tr>\n",
       "  </thead>\n",
       "  <tbody>\n",
       "    <tr>\n",
       "      <th>1</th>\n",
       "      <td>0.636273</td>\n",
       "      <td>0.688000</td>\n",
       "    </tr>\n",
       "    <tr>\n",
       "      <th>2</th>\n",
       "      <td>0.627123</td>\n",
       "      <td>0.705333</td>\n",
       "    </tr>\n",
       "    <tr>\n",
       "      <th>3</th>\n",
       "      <td>0.618056</td>\n",
       "      <td>0.720000</td>\n",
       "    </tr>\n",
       "    <tr>\n",
       "      <th>4</th>\n",
       "      <td>0.608894</td>\n",
       "      <td>0.732000</td>\n",
       "    </tr>\n",
       "    <tr>\n",
       "      <th>5</th>\n",
       "      <td>0.599903</td>\n",
       "      <td>0.742667</td>\n",
       "    </tr>\n",
       "  </tbody>\n",
       "</table>\n",
       "</div>"
      ],
      "text/plain": [
       "       loss       acc\n",
       "1  0.636273  0.688000\n",
       "2  0.627123  0.705333\n",
       "3  0.618056  0.720000\n",
       "4  0.608894  0.732000\n",
       "5  0.599903  0.742667"
      ]
     },
     "execution_count": 17,
     "metadata": {},
     "output_type": "execute_result"
    }
   ],
   "source": [
    "history_df.head()"
   ]
  },
  {
   "cell_type": "code",
   "execution_count": 15,
   "metadata": {},
   "outputs": [
    {
     "data": {
      "text/plain": [
       "<matplotlib.axes._subplots.AxesSubplot at 0x29d1c285808>"
      ]
     },
     "execution_count": 15,
     "metadata": {},
     "output_type": "execute_result"
    },
    {
     "data": {
      "image/png": "[encoded data removed]",
      "text/plain": [
       "<Figure size 432x288 with 1 Axes>"
      ]
     },
     "metadata": {
      "needs_background": "light"
     },
     "output_type": "display_data"
    }
   ],
   "source": [
    "# Create a DataFrame containing training history\n",
    "history_df = pd.DataFrame(fit_model.history, index=range(1,len(fit_model.history[\"loss\"])+1))\n",
    "\n",
    "# Plot the loss\n",
    "history_df.plot(y=\"loss\")"
   ]
  },
  {
   "cell_type": "code",
   "execution_count": 19,
   "metadata": {},
   "outputs": [
    {
     "data": {
      "text/plain": [
       "<matplotlib.axes._subplots.AxesSubplot at 0x29d1bef1dc8>"
      ]
     },
     "execution_count": 19,
     "metadata": {},
     "output_type": "execute_result"
    },
    {
     "data": {
      "image/png": "[encoded data removed]",
      "text/plain": [
       "<Figure size 432x288 with 1 Axes>"
      ]
     },
     "metadata": {
      "needs_background": "light"
     },
     "output_type": "display_data"
    }
   ],
   "source": [
    "# Plot the accuracy\n",
    "history_df.plot(y=\"acc\")"
   ]
  },
  {
   "cell_type": "code",
   "execution_count": 20,
   "metadata": {},
   "outputs": [
    {
     "name": "stdout",
     "output_type": "stream",
     "text": [
      "250/250 - 0s - loss: 0.0841 - acc: 1.0000\n",
      "Loss: 0.08405999645590782, Accuracy: 1.0\n"
     ]
    }
   ],
   "source": [
    "# Evaluate the model using the test data, using evaluate()\n",
    "model_loss, model_accuracy = nn_model.evaluate(X_test_scaled,y_test,verbose=2)\n",
    "print(f\"Loss: {model_loss}, Accuracy: {model_accuracy}\")"
   ]
  },
  {
   "cell_type": "markdown",
   "metadata": {},
   "source": [
    "   # Try the model with a completely different random dataset"
   ]
  },
  {
   "cell_type": "code",
   "execution_count": 21,
   "metadata": {},
   "outputs": [
    {
     "data": {
      "text/plain": [
       "array([[0],\n",
       "       [1],\n",
       "       [0],\n",
       "       [1],\n",
       "       [0],\n",
       "       [0],\n",
       "       [1],\n",
       "       [1],\n",
       "       [1],\n",
       "       [0]])"
      ]
     },
     "execution_count": 21,
     "metadata": {},
     "output_type": "execute_result"
    }
   ],
   "source": [
    "# Predict the classification of a new set of blob data\n",
    "new_X, new_Y = make_blobs(n_samples=10, centers=2, n_features=2, random_state=78)\n",
    "new_X_scaled = X_scaler.transform(new_X)\n",
    "nn_model.predict_classes(new_X_scaled)"
   ]
  },
  {
   "cell_type": "markdown",
   "metadata": {},
   "source": [
    "## Summary: the order of creating a Keras Sequential model\n",
    "1. define a model name: nn_model = tf.keras.models.Sequential()\n",
    "2. add Dense layers: nn_model.add(tf.keras.layers.Dense(.....))\n",
    "3. compile the model altogether: nn_model.compile()\n",
    "4. train, fit, predict model like regular models"
   ]
  },
  {
   "cell_type": "code",
   "execution_count": null,
   "metadata": {},
   "outputs": [],
   "source": []
  }
 ],
 "metadata": {
  "kernelspec": {
   "display_name": "PythonData",
   "language": "python",
   "name": "pythondata"
  },
  "language_info": {
   "codemirror_mode": {
    "name": "ipython",
    "version": 3
   },
   "file_extension": ".py",
   "mimetype": "text/x-python",
   "name": "python",
   "nbconvert_exporter": "python",
   "pygments_lexer": "ipython3",
   "version": "3.7.7"
  }
 },
 "nbformat": 4,
 "nbformat_minor": 4
}
